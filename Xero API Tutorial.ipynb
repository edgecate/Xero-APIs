{
 "cells": [
  {
   "cell_type": "code",
   "execution_count": null,
   "id": "b62e8ead",
   "metadata": {},
   "outputs": [],
   "source": [
    "import json\n",
    "import requests\n",
    "import webbrowser\n",
    "import base64\n",
    "\n",
    "client_id = 'YOUR_XERO_CLIENT_ID'\n",
    "client_secret = 'YOUR_XERO_CLIENT_SECRET'\n",
    "redirect_url = 'https://xero.com/'\n",
    "scope = 'offline_access accounting.transactions'\n",
    "b64_id_secret = base64.b64encode(bytes(client_id + ':' + client_secret, 'utf-8')).decode('utf-8')\n",
    "\n",
    "def XeroFirstAuth():\n",
    "    # 1. Send a user to authorize your app\n",
    "    auth_url = ('''https://login.xero.com/identity/connect/authorize?''' +\n",
    "                '''response_type=code''' +\n",
    "                '''&client_id=''' + client_id +\n",
    "                '''&redirect_uri=''' + redirect_url +\n",
    "                '''&scope=''' + scope +\n",
    "                '''&state=123''')\n",
    "    webbrowser.open_new(auth_url)\n",
    "    \n",
    "    # 2. Users are redirected back to you with a code\n",
    "    auth_res_url = input('What is the response URL? ')\n",
    "    start_number = auth_res_url.find('code=') + len('code=')\n",
    "    end_number = auth_res_url.find('&scope')\n",
    "    auth_code = auth_res_url[start_number:end_number]\n",
    "    print(auth_code)\n",
    "    print('\\n')\n",
    "    \n",
    "    # 3. Exchange the code\n",
    "    exchange_code_url = 'https://identity.xero.com/connect/token'\n",
    "    response = requests.post(exchange_code_url, \n",
    "                            headers = {\n",
    "                                'Authorization': 'Basic ' + b64_id_secret\n",
    "                            },\n",
    "                            data = {\n",
    "                                'grant_type': 'authorization_code',\n",
    "                                'code': auth_code,\n",
    "                                'redirect_uri': redirect_url\n",
    "                            })\n",
    "    json_response = response.json()\n",
    "    print(json_response)\n",
    "    print('\\n')\n",
    "    \n",
    "    # 4. Receive your tokens\n",
    "    return [json_response['access_token'], json_response['refresh_token']]"
   ]
  },
  {
   "cell_type": "code",
   "execution_count": null,
   "id": "0ac9ab34",
   "metadata": {},
   "outputs": [],
   "source": [
    "XeroFirstAuth()"
   ]
  },
  {
   "cell_type": "code",
   "execution_count": null,
   "id": "16d4a95a",
   "metadata": {},
   "outputs": [],
   "source": [
    "# 5. Check the full set of tenants you've been authorized to access\n",
    "def XeroTenants(access_token):\n",
    "    connections_url = 'https://api.xero.com/connections'\n",
    "    response = requests.get(connections_url,\n",
    "                           headers = {\n",
    "                               'Authorization': 'Bearer ' + access_token,\n",
    "                               'Content-Type': 'application/json'\n",
    "                           })\n",
    "    json_response = response.json()\n",
    "    print(json_response)\n",
    "    \n",
    "    for tenants in json_response:\n",
    "        json_dict = tenants\n",
    "    return json_dict['tenantId']"
   ]
  },
  {
   "cell_type": "code",
   "execution_count": null,
   "id": "5a89bb25",
   "metadata": {},
   "outputs": [],
   "source": [
    "XeroTenants('YOUR_XERO_ACCESS_TOKEN')"
   ]
  },
  {
   "cell_type": "code",
   "execution_count": null,
   "id": "84ffad2b",
   "metadata": {},
   "outputs": [],
   "source": [
    "# 6.1 Refreshing access tokens\n",
    "def XeroRefreshToken(refresh_token):\n",
    "    token_refresh_url = 'https://identity.xero.com/connect/token'\n",
    "    response = requests.post(token_refresh_url,\n",
    "                            headers = {\n",
    "                                'Authorization' : 'Basic ' + b64_id_secret,\n",
    "                                'Content-Type': 'application/x-www-form-urlencoded'\n",
    "                            },\n",
    "                            data = {\n",
    "                                'grant_type' : 'refresh_token',\n",
    "                                'refresh_token' : refresh_token\n",
    "                            })\n",
    "    json_response = response.json()\n",
    "    print(json_response)\n",
    "    \n",
    "    new_refresh_token = json_response['refresh_token']\n",
    "    rt_file = open('C:/folder/refresh_token.txt', 'w')\n",
    "    rt_file.write(new_refresh_token)\n",
    "    rt_file.close()\n",
    "    \n",
    "    return [json_response['access_token'], json_response['refresh_token']]"
   ]
  },
  {
   "cell_type": "code",
   "execution_count": null,
   "id": "f23a90ce",
   "metadata": {},
   "outputs": [],
   "source": [
    "# 6.2 Call the API\n",
    "def XeroRequests():\n",
    "    old_refresh_token = open('C:/folder/refresh_token.txt', 'r').read()\n",
    "    new_tokens = XeroRefreshToken(old_refresh_token)\n",
    "    xero_tenant_id = XeroTenants(new_tokens[0])\n",
    "    \n",
    "    get_url = 'https://api.xero.com/api.xro/2.0/Invoices'\n",
    "    response = requests.get(get_url,\n",
    "                           headers = {\n",
    "                               'Authorization': 'Bearer ' + tokens[0],\n",
    "                               'Xero-tenant-id': xero_tenant_id,\n",
    "                               'Accept': 'application/json'\n",
    "                           })\n",
    "    json_response = response.json()\n",
    "    print(json_response)\n",
    "    \n",
    "    xero_output = open('C:/folder/xero_output.txt', 'w')\n",
    "    xero_output.write(response.text)\n",
    "    xero_output.close()"
   ]
  },
  {
   "cell_type": "code",
   "execution_count": null,
   "id": "c5f6af4c",
   "metadata": {},
   "outputs": [],
   "source": [
    "def export_csv():\n",
    "    invoices = open(r'C:\\folder\\xero_output.txt', 'r').read()\n",
    "    json_invoice = json.loads(invoices)\n",
    "    analysis = open(r'C:\\folder\\analysis.csv', 'w')\n",
    "    analysis.write('Type' + ',' + 'Total')\n",
    "    analysis.write('\\n')\n",
    "    for invoices in json_invoice['Invoices']:\n",
    "        analysis.write(invoices['Type'] + ',' + str(invoices['Total']))\n",
    "        analysis.write('\\n')\n",
    "    analysis.close()"
   ]
  },
  {
   "cell_type": "code",
   "execution_count": null,
   "id": "99703aa6",
   "metadata": {},
   "outputs": [],
   "source": [
    "import pandas as pd\n",
    "import matplotlib.pyplot as plt\n",
    "def chart_data():\n",
    "    df = pd.read_csv(r'C:\\folder\\analysis.csv')\n",
    "    pvt = df[ ['Type','Total'] ].groupby('Type').sum()\n",
    "    print(pvt)\n",
    "    \n",
    "    pvt.plot.bar(stacked=True)\n",
    "    plt.show()"
   ]
  },
  {
   "cell_type": "code",
   "execution_count": null,
   "id": "961ec669",
   "metadata": {},
   "outputs": [],
   "source": [
    "export_csv()\n",
    "chart_data()"
   ]
  },
  {
   "cell_type": "code",
   "execution_count": null,
   "id": "611a48dc",
   "metadata": {},
   "outputs": [],
   "source": [
    "# First Time running the script\n",
    "old_tokens = XeroFirstAuth()\n",
    "XeroRefreshToken(old_tokens[1])"
   ]
  },
  {
   "cell_type": "code",
   "execution_count": null,
   "id": "a29c5fbd",
   "metadata": {},
   "outputs": [],
   "source": [
    "# Every other time\n",
    "XeroRequests()"
   ]
  }
 ],
 "metadata": {
  "kernelspec": {
   "display_name": "Python 3 (ipykernel)",
   "language": "python",
   "name": "python3"
  },
  "language_info": {
   "codemirror_mode": {
    "name": "ipython",
    "version": 3
   },
   "file_extension": ".py",
   "mimetype": "text/x-python",
   "name": "python",
   "nbconvert_exporter": "python",
   "pygments_lexer": "ipython3",
   "version": "3.10.0"
  }
 },
 "nbformat": 4,
 "nbformat_minor": 5
}
